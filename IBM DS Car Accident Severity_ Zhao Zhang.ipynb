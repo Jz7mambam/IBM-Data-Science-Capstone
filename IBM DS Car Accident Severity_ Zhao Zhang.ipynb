{
 "cells": [
  {
   "cell_type": "code",
   "execution_count": 2,
   "metadata": {},
   "outputs": [
    {
     "name": "stdout",
     "output_type": "stream",
     "text": [
      "Hello Capstone Project Course!\n"
     ]
    }
   ],
   "source": [
    "# This notebook will be mainly used for the applied data science capstone project\n",
    "import pandas as pd\n",
    "import numpy as np\n",
    "import matplotlib as mpl\n",
    "import matplotlib.pyplot as plt\n",
    "print (\"Hello Capstone Project Course!\")\n"
   ]
  },
  {
   "cell_type": "code",
   "execution_count": 3,
   "metadata": {},
   "outputs": [
    {
     "name": "stderr",
     "output_type": "stream",
     "text": [
      "/home/jupyterlab/conda/envs/python/lib/python3.6/site-packages/IPython/core/interactiveshell.py:3072: DtypeWarning: Columns (33) have mixed types.Specify dtype option on import or set low_memory=False.\n",
      "  interactivity=interactivity, compiler=compiler, result=result)\n"
     ]
    },
    {
     "data": {
      "text/html": [
       "<div>\n",
       "<style scoped>\n",
       "    .dataframe tbody tr th:only-of-type {\n",
       "        vertical-align: middle;\n",
       "    }\n",
       "\n",
       "    .dataframe tbody tr th {\n",
       "        vertical-align: top;\n",
       "    }\n",
       "\n",
       "    .dataframe thead th {\n",
       "        text-align: right;\n",
       "    }\n",
       "</style>\n",
       "<table border=\"1\" class=\"dataframe\">\n",
       "  <thead>\n",
       "    <tr style=\"text-align: right;\">\n",
       "      <th></th>\n",
       "      <th>SEVERITYCODE</th>\n",
       "      <th>X</th>\n",
       "      <th>Y</th>\n",
       "      <th>OBJECTID</th>\n",
       "      <th>INCKEY</th>\n",
       "      <th>COLDETKEY</th>\n",
       "      <th>REPORTNO</th>\n",
       "      <th>STATUS</th>\n",
       "      <th>ADDRTYPE</th>\n",
       "      <th>INTKEY</th>\n",
       "      <th>...</th>\n",
       "      <th>ROADCOND</th>\n",
       "      <th>LIGHTCOND</th>\n",
       "      <th>PEDROWNOTGRNT</th>\n",
       "      <th>SDOTCOLNUM</th>\n",
       "      <th>SPEEDING</th>\n",
       "      <th>ST_COLCODE</th>\n",
       "      <th>ST_COLDESC</th>\n",
       "      <th>SEGLANEKEY</th>\n",
       "      <th>CROSSWALKKEY</th>\n",
       "      <th>HITPARKEDCAR</th>\n",
       "    </tr>\n",
       "  </thead>\n",
       "  <tbody>\n",
       "    <tr>\n",
       "      <th>0</th>\n",
       "      <td>2</td>\n",
       "      <td>-122.323148</td>\n",
       "      <td>47.703140</td>\n",
       "      <td>1</td>\n",
       "      <td>1307</td>\n",
       "      <td>1307</td>\n",
       "      <td>3502005</td>\n",
       "      <td>Matched</td>\n",
       "      <td>Intersection</td>\n",
       "      <td>37475.0</td>\n",
       "      <td>...</td>\n",
       "      <td>Wet</td>\n",
       "      <td>Daylight</td>\n",
       "      <td>NaN</td>\n",
       "      <td>NaN</td>\n",
       "      <td>NaN</td>\n",
       "      <td>10</td>\n",
       "      <td>Entering at angle</td>\n",
       "      <td>0</td>\n",
       "      <td>0</td>\n",
       "      <td>N</td>\n",
       "    </tr>\n",
       "    <tr>\n",
       "      <th>1</th>\n",
       "      <td>1</td>\n",
       "      <td>-122.347294</td>\n",
       "      <td>47.647172</td>\n",
       "      <td>2</td>\n",
       "      <td>52200</td>\n",
       "      <td>52200</td>\n",
       "      <td>2607959</td>\n",
       "      <td>Matched</td>\n",
       "      <td>Block</td>\n",
       "      <td>NaN</td>\n",
       "      <td>...</td>\n",
       "      <td>Wet</td>\n",
       "      <td>Dark - Street Lights On</td>\n",
       "      <td>NaN</td>\n",
       "      <td>6354039.0</td>\n",
       "      <td>NaN</td>\n",
       "      <td>11</td>\n",
       "      <td>From same direction - both going straight - bo...</td>\n",
       "      <td>0</td>\n",
       "      <td>0</td>\n",
       "      <td>N</td>\n",
       "    </tr>\n",
       "    <tr>\n",
       "      <th>2</th>\n",
       "      <td>1</td>\n",
       "      <td>-122.334540</td>\n",
       "      <td>47.607871</td>\n",
       "      <td>3</td>\n",
       "      <td>26700</td>\n",
       "      <td>26700</td>\n",
       "      <td>1482393</td>\n",
       "      <td>Matched</td>\n",
       "      <td>Block</td>\n",
       "      <td>NaN</td>\n",
       "      <td>...</td>\n",
       "      <td>Dry</td>\n",
       "      <td>Daylight</td>\n",
       "      <td>NaN</td>\n",
       "      <td>4323031.0</td>\n",
       "      <td>NaN</td>\n",
       "      <td>32</td>\n",
       "      <td>One parked--one moving</td>\n",
       "      <td>0</td>\n",
       "      <td>0</td>\n",
       "      <td>N</td>\n",
       "    </tr>\n",
       "    <tr>\n",
       "      <th>3</th>\n",
       "      <td>1</td>\n",
       "      <td>-122.334803</td>\n",
       "      <td>47.604803</td>\n",
       "      <td>4</td>\n",
       "      <td>1144</td>\n",
       "      <td>1144</td>\n",
       "      <td>3503937</td>\n",
       "      <td>Matched</td>\n",
       "      <td>Block</td>\n",
       "      <td>NaN</td>\n",
       "      <td>...</td>\n",
       "      <td>Dry</td>\n",
       "      <td>Daylight</td>\n",
       "      <td>NaN</td>\n",
       "      <td>NaN</td>\n",
       "      <td>NaN</td>\n",
       "      <td>23</td>\n",
       "      <td>From same direction - all others</td>\n",
       "      <td>0</td>\n",
       "      <td>0</td>\n",
       "      <td>N</td>\n",
       "    </tr>\n",
       "    <tr>\n",
       "      <th>4</th>\n",
       "      <td>2</td>\n",
       "      <td>-122.306426</td>\n",
       "      <td>47.545739</td>\n",
       "      <td>5</td>\n",
       "      <td>17700</td>\n",
       "      <td>17700</td>\n",
       "      <td>1807429</td>\n",
       "      <td>Matched</td>\n",
       "      <td>Intersection</td>\n",
       "      <td>34387.0</td>\n",
       "      <td>...</td>\n",
       "      <td>Wet</td>\n",
       "      <td>Daylight</td>\n",
       "      <td>NaN</td>\n",
       "      <td>4028032.0</td>\n",
       "      <td>NaN</td>\n",
       "      <td>10</td>\n",
       "      <td>Entering at angle</td>\n",
       "      <td>0</td>\n",
       "      <td>0</td>\n",
       "      <td>N</td>\n",
       "    </tr>\n",
       "  </tbody>\n",
       "</table>\n",
       "<p>5 rows × 38 columns</p>\n",
       "</div>"
      ],
      "text/plain": [
       "   SEVERITYCODE           X          Y  OBJECTID  INCKEY  COLDETKEY REPORTNO  \\\n",
       "0             2 -122.323148  47.703140         1    1307       1307  3502005   \n",
       "1             1 -122.347294  47.647172         2   52200      52200  2607959   \n",
       "2             1 -122.334540  47.607871         3   26700      26700  1482393   \n",
       "3             1 -122.334803  47.604803         4    1144       1144  3503937   \n",
       "4             2 -122.306426  47.545739         5   17700      17700  1807429   \n",
       "\n",
       "    STATUS      ADDRTYPE   INTKEY  ... ROADCOND                LIGHTCOND  \\\n",
       "0  Matched  Intersection  37475.0  ...      Wet                 Daylight   \n",
       "1  Matched         Block      NaN  ...      Wet  Dark - Street Lights On   \n",
       "2  Matched         Block      NaN  ...      Dry                 Daylight   \n",
       "3  Matched         Block      NaN  ...      Dry                 Daylight   \n",
       "4  Matched  Intersection  34387.0  ...      Wet                 Daylight   \n",
       "\n",
       "  PEDROWNOTGRNT  SDOTCOLNUM SPEEDING ST_COLCODE  \\\n",
       "0           NaN         NaN      NaN         10   \n",
       "1           NaN   6354039.0      NaN         11   \n",
       "2           NaN   4323031.0      NaN         32   \n",
       "3           NaN         NaN      NaN         23   \n",
       "4           NaN   4028032.0      NaN         10   \n",
       "\n",
       "                                          ST_COLDESC  SEGLANEKEY  \\\n",
       "0                                  Entering at angle           0   \n",
       "1  From same direction - both going straight - bo...           0   \n",
       "2                             One parked--one moving           0   \n",
       "3                   From same direction - all others           0   \n",
       "4                                  Entering at angle           0   \n",
       "\n",
       "   CROSSWALKKEY  HITPARKEDCAR  \n",
       "0             0             N  \n",
       "1             0             N  \n",
       "2             0             N  \n",
       "3             0             N  \n",
       "4             0             N  \n",
       "\n",
       "[5 rows x 38 columns]"
      ]
     },
     "execution_count": 3,
     "metadata": {},
     "output_type": "execute_result"
    }
   ],
   "source": [
    "# Read the .csv dataset from websource and display the first 5 rows\n",
    "df = pd.read_csv(\"https://s3.us.cloud-object-storage.appdomain.cloud/cf-courses-data/CognitiveClass/DP0701EN/version-2/Data-Collisions.csv\")\n",
    "df.head()"
   ]
  },
  {
   "cell_type": "code",
   "execution_count": 4,
   "metadata": {},
   "outputs": [
    {
     "name": "stdout",
     "output_type": "stream",
     "text": [
      "<class 'pandas.core.frame.DataFrame'>\n",
      "RangeIndex: 194673 entries, 0 to 194672\n",
      "Data columns (total 38 columns):\n",
      " #   Column          Non-Null Count   Dtype  \n",
      "---  ------          --------------   -----  \n",
      " 0   SEVERITYCODE    194673 non-null  int64  \n",
      " 1   X               189339 non-null  float64\n",
      " 2   Y               189339 non-null  float64\n",
      " 3   OBJECTID        194673 non-null  int64  \n",
      " 4   INCKEY          194673 non-null  int64  \n",
      " 5   COLDETKEY       194673 non-null  int64  \n",
      " 6   REPORTNO        194673 non-null  object \n",
      " 7   STATUS          194673 non-null  object \n",
      " 8   ADDRTYPE        192747 non-null  object \n",
      " 9   INTKEY          65070 non-null   float64\n",
      " 10  LOCATION        191996 non-null  object \n",
      " 11  EXCEPTRSNCODE   84811 non-null   object \n",
      " 12  EXCEPTRSNDESC   5638 non-null    object \n",
      " 13  SEVERITYCODE.1  194673 non-null  int64  \n",
      " 14  SEVERITYDESC    194673 non-null  object \n",
      " 15  COLLISIONTYPE   189769 non-null  object \n",
      " 16  PERSONCOUNT     194673 non-null  int64  \n",
      " 17  PEDCOUNT        194673 non-null  int64  \n",
      " 18  PEDCYLCOUNT     194673 non-null  int64  \n",
      " 19  VEHCOUNT        194673 non-null  int64  \n",
      " 20  INCDATE         194673 non-null  object \n",
      " 21  INCDTTM         194673 non-null  object \n",
      " 22  JUNCTIONTYPE    188344 non-null  object \n",
      " 23  SDOT_COLCODE    194673 non-null  int64  \n",
      " 24  SDOT_COLDESC    194673 non-null  object \n",
      " 25  INATTENTIONIND  29805 non-null   object \n",
      " 26  UNDERINFL       189789 non-null  object \n",
      " 27  WEATHER         189592 non-null  object \n",
      " 28  ROADCOND        189661 non-null  object \n",
      " 29  LIGHTCOND       189503 non-null  object \n",
      " 30  PEDROWNOTGRNT   4667 non-null    object \n",
      " 31  SDOTCOLNUM      114936 non-null  float64\n",
      " 32  SPEEDING        9333 non-null    object \n",
      " 33  ST_COLCODE      194655 non-null  object \n",
      " 34  ST_COLDESC      189769 non-null  object \n",
      " 35  SEGLANEKEY      194673 non-null  int64  \n",
      " 36  CROSSWALKKEY    194673 non-null  int64  \n",
      " 37  HITPARKEDCAR    194673 non-null  object \n",
      "dtypes: float64(4), int64(12), object(22)\n",
      "memory usage: 56.4+ MB\n"
     ]
    }
   ],
   "source": [
    "df.info()"
   ]
  },
  {
   "cell_type": "code",
   "execution_count": 5,
   "metadata": {},
   "outputs": [
    {
     "data": {
      "text/html": [
       "<div>\n",
       "<style scoped>\n",
       "    .dataframe tbody tr th:only-of-type {\n",
       "        vertical-align: middle;\n",
       "    }\n",
       "\n",
       "    .dataframe tbody tr th {\n",
       "        vertical-align: top;\n",
       "    }\n",
       "\n",
       "    .dataframe thead th {\n",
       "        text-align: right;\n",
       "    }\n",
       "</style>\n",
       "<table border=\"1\" class=\"dataframe\">\n",
       "  <thead>\n",
       "    <tr style=\"text-align: right;\">\n",
       "      <th></th>\n",
       "      <th>SEVERITYCODE</th>\n",
       "      <th>X</th>\n",
       "      <th>Y</th>\n",
       "      <th>OBJECTID</th>\n",
       "      <th>INCKEY</th>\n",
       "      <th>COLDETKEY</th>\n",
       "      <th>INTKEY</th>\n",
       "      <th>SEVERITYCODE.1</th>\n",
       "      <th>PERSONCOUNT</th>\n",
       "      <th>PEDCOUNT</th>\n",
       "      <th>PEDCYLCOUNT</th>\n",
       "      <th>VEHCOUNT</th>\n",
       "      <th>SDOT_COLCODE</th>\n",
       "      <th>SDOTCOLNUM</th>\n",
       "      <th>SEGLANEKEY</th>\n",
       "      <th>CROSSWALKKEY</th>\n",
       "    </tr>\n",
       "  </thead>\n",
       "  <tbody>\n",
       "    <tr>\n",
       "      <th>count</th>\n",
       "      <td>194673.000000</td>\n",
       "      <td>189339.000000</td>\n",
       "      <td>189339.000000</td>\n",
       "      <td>194673.000000</td>\n",
       "      <td>194673.000000</td>\n",
       "      <td>194673.000000</td>\n",
       "      <td>65070.000000</td>\n",
       "      <td>194673.000000</td>\n",
       "      <td>194673.000000</td>\n",
       "      <td>194673.000000</td>\n",
       "      <td>194673.000000</td>\n",
       "      <td>194673.000000</td>\n",
       "      <td>194673.000000</td>\n",
       "      <td>1.149360e+05</td>\n",
       "      <td>194673.000000</td>\n",
       "      <td>1.946730e+05</td>\n",
       "    </tr>\n",
       "    <tr>\n",
       "      <th>mean</th>\n",
       "      <td>1.298901</td>\n",
       "      <td>-122.330518</td>\n",
       "      <td>47.619543</td>\n",
       "      <td>108479.364930</td>\n",
       "      <td>141091.456350</td>\n",
       "      <td>141298.811381</td>\n",
       "      <td>37558.450576</td>\n",
       "      <td>1.298901</td>\n",
       "      <td>2.444427</td>\n",
       "      <td>0.037139</td>\n",
       "      <td>0.028391</td>\n",
       "      <td>1.920780</td>\n",
       "      <td>13.867768</td>\n",
       "      <td>7.972521e+06</td>\n",
       "      <td>269.401114</td>\n",
       "      <td>9.782452e+03</td>\n",
       "    </tr>\n",
       "    <tr>\n",
       "      <th>std</th>\n",
       "      <td>0.457778</td>\n",
       "      <td>0.029976</td>\n",
       "      <td>0.056157</td>\n",
       "      <td>62649.722558</td>\n",
       "      <td>86634.402737</td>\n",
       "      <td>86986.542110</td>\n",
       "      <td>51745.990273</td>\n",
       "      <td>0.457778</td>\n",
       "      <td>1.345929</td>\n",
       "      <td>0.198150</td>\n",
       "      <td>0.167413</td>\n",
       "      <td>0.631047</td>\n",
       "      <td>6.868755</td>\n",
       "      <td>2.553533e+06</td>\n",
       "      <td>3315.776055</td>\n",
       "      <td>7.226926e+04</td>\n",
       "    </tr>\n",
       "    <tr>\n",
       "      <th>min</th>\n",
       "      <td>1.000000</td>\n",
       "      <td>-122.419091</td>\n",
       "      <td>47.495573</td>\n",
       "      <td>1.000000</td>\n",
       "      <td>1001.000000</td>\n",
       "      <td>1001.000000</td>\n",
       "      <td>23807.000000</td>\n",
       "      <td>1.000000</td>\n",
       "      <td>0.000000</td>\n",
       "      <td>0.000000</td>\n",
       "      <td>0.000000</td>\n",
       "      <td>0.000000</td>\n",
       "      <td>0.000000</td>\n",
       "      <td>1.007024e+06</td>\n",
       "      <td>0.000000</td>\n",
       "      <td>0.000000e+00</td>\n",
       "    </tr>\n",
       "    <tr>\n",
       "      <th>25%</th>\n",
       "      <td>1.000000</td>\n",
       "      <td>-122.348673</td>\n",
       "      <td>47.575956</td>\n",
       "      <td>54267.000000</td>\n",
       "      <td>70383.000000</td>\n",
       "      <td>70383.000000</td>\n",
       "      <td>28667.000000</td>\n",
       "      <td>1.000000</td>\n",
       "      <td>2.000000</td>\n",
       "      <td>0.000000</td>\n",
       "      <td>0.000000</td>\n",
       "      <td>2.000000</td>\n",
       "      <td>11.000000</td>\n",
       "      <td>6.040015e+06</td>\n",
       "      <td>0.000000</td>\n",
       "      <td>0.000000e+00</td>\n",
       "    </tr>\n",
       "    <tr>\n",
       "      <th>50%</th>\n",
       "      <td>1.000000</td>\n",
       "      <td>-122.330224</td>\n",
       "      <td>47.615369</td>\n",
       "      <td>106912.000000</td>\n",
       "      <td>123363.000000</td>\n",
       "      <td>123363.000000</td>\n",
       "      <td>29973.000000</td>\n",
       "      <td>1.000000</td>\n",
       "      <td>2.000000</td>\n",
       "      <td>0.000000</td>\n",
       "      <td>0.000000</td>\n",
       "      <td>2.000000</td>\n",
       "      <td>13.000000</td>\n",
       "      <td>8.023022e+06</td>\n",
       "      <td>0.000000</td>\n",
       "      <td>0.000000e+00</td>\n",
       "    </tr>\n",
       "    <tr>\n",
       "      <th>75%</th>\n",
       "      <td>2.000000</td>\n",
       "      <td>-122.311937</td>\n",
       "      <td>47.663664</td>\n",
       "      <td>162272.000000</td>\n",
       "      <td>203319.000000</td>\n",
       "      <td>203459.000000</td>\n",
       "      <td>33973.000000</td>\n",
       "      <td>2.000000</td>\n",
       "      <td>3.000000</td>\n",
       "      <td>0.000000</td>\n",
       "      <td>0.000000</td>\n",
       "      <td>2.000000</td>\n",
       "      <td>14.000000</td>\n",
       "      <td>1.015501e+07</td>\n",
       "      <td>0.000000</td>\n",
       "      <td>0.000000e+00</td>\n",
       "    </tr>\n",
       "    <tr>\n",
       "      <th>max</th>\n",
       "      <td>2.000000</td>\n",
       "      <td>-122.238949</td>\n",
       "      <td>47.734142</td>\n",
       "      <td>219547.000000</td>\n",
       "      <td>331454.000000</td>\n",
       "      <td>332954.000000</td>\n",
       "      <td>757580.000000</td>\n",
       "      <td>2.000000</td>\n",
       "      <td>81.000000</td>\n",
       "      <td>6.000000</td>\n",
       "      <td>2.000000</td>\n",
       "      <td>12.000000</td>\n",
       "      <td>69.000000</td>\n",
       "      <td>1.307202e+07</td>\n",
       "      <td>525241.000000</td>\n",
       "      <td>5.239700e+06</td>\n",
       "    </tr>\n",
       "  </tbody>\n",
       "</table>\n",
       "</div>"
      ],
      "text/plain": [
       "        SEVERITYCODE              X              Y       OBJECTID  \\\n",
       "count  194673.000000  189339.000000  189339.000000  194673.000000   \n",
       "mean        1.298901    -122.330518      47.619543  108479.364930   \n",
       "std         0.457778       0.029976       0.056157   62649.722558   \n",
       "min         1.000000    -122.419091      47.495573       1.000000   \n",
       "25%         1.000000    -122.348673      47.575956   54267.000000   \n",
       "50%         1.000000    -122.330224      47.615369  106912.000000   \n",
       "75%         2.000000    -122.311937      47.663664  162272.000000   \n",
       "max         2.000000    -122.238949      47.734142  219547.000000   \n",
       "\n",
       "              INCKEY      COLDETKEY         INTKEY  SEVERITYCODE.1  \\\n",
       "count  194673.000000  194673.000000   65070.000000   194673.000000   \n",
       "mean   141091.456350  141298.811381   37558.450576        1.298901   \n",
       "std     86634.402737   86986.542110   51745.990273        0.457778   \n",
       "min      1001.000000    1001.000000   23807.000000        1.000000   \n",
       "25%     70383.000000   70383.000000   28667.000000        1.000000   \n",
       "50%    123363.000000  123363.000000   29973.000000        1.000000   \n",
       "75%    203319.000000  203459.000000   33973.000000        2.000000   \n",
       "max    331454.000000  332954.000000  757580.000000        2.000000   \n",
       "\n",
       "         PERSONCOUNT       PEDCOUNT    PEDCYLCOUNT       VEHCOUNT  \\\n",
       "count  194673.000000  194673.000000  194673.000000  194673.000000   \n",
       "mean        2.444427       0.037139       0.028391       1.920780   \n",
       "std         1.345929       0.198150       0.167413       0.631047   \n",
       "min         0.000000       0.000000       0.000000       0.000000   \n",
       "25%         2.000000       0.000000       0.000000       2.000000   \n",
       "50%         2.000000       0.000000       0.000000       2.000000   \n",
       "75%         3.000000       0.000000       0.000000       2.000000   \n",
       "max        81.000000       6.000000       2.000000      12.000000   \n",
       "\n",
       "        SDOT_COLCODE    SDOTCOLNUM     SEGLANEKEY  CROSSWALKKEY  \n",
       "count  194673.000000  1.149360e+05  194673.000000  1.946730e+05  \n",
       "mean       13.867768  7.972521e+06     269.401114  9.782452e+03  \n",
       "std         6.868755  2.553533e+06    3315.776055  7.226926e+04  \n",
       "min         0.000000  1.007024e+06       0.000000  0.000000e+00  \n",
       "25%        11.000000  6.040015e+06       0.000000  0.000000e+00  \n",
       "50%        13.000000  8.023022e+06       0.000000  0.000000e+00  \n",
       "75%        14.000000  1.015501e+07       0.000000  0.000000e+00  \n",
       "max        69.000000  1.307202e+07  525241.000000  5.239700e+06  "
      ]
     },
     "execution_count": 5,
     "metadata": {},
     "output_type": "execute_result"
    }
   ],
   "source": [
    "df.describe()"
   ]
  },
  {
   "cell_type": "code",
   "execution_count": 6,
   "metadata": {},
   "outputs": [
    {
     "data": {
      "text/html": [
       "<div>\n",
       "<style scoped>\n",
       "    .dataframe tbody tr th:only-of-type {\n",
       "        vertical-align: middle;\n",
       "    }\n",
       "\n",
       "    .dataframe tbody tr th {\n",
       "        vertical-align: top;\n",
       "    }\n",
       "\n",
       "    .dataframe thead th {\n",
       "        text-align: right;\n",
       "    }\n",
       "</style>\n",
       "<table border=\"1\" class=\"dataframe\">\n",
       "  <thead>\n",
       "    <tr style=\"text-align: right;\">\n",
       "      <th></th>\n",
       "      <th>X</th>\n",
       "      <th>Y</th>\n",
       "      <th>ROADCOND</th>\n",
       "      <th>LIGHTCOND</th>\n",
       "      <th>WEATHER</th>\n",
       "      <th>UNDERINFL</th>\n",
       "      <th>SPEEDING</th>\n",
       "      <th>INATTENTIONIND</th>\n",
       "      <th>ADDRTYPE</th>\n",
       "      <th>JUNCTIONTYPE</th>\n",
       "      <th>COLLISIONTYPE</th>\n",
       "      <th>PEDCOUNT</th>\n",
       "      <th>PEDCYLCOUNT</th>\n",
       "      <th>VEHCOUNT</th>\n",
       "      <th>SEVERITYCODE</th>\n",
       "    </tr>\n",
       "  </thead>\n",
       "  <tbody>\n",
       "    <tr>\n",
       "      <th>0</th>\n",
       "      <td>-122.323148</td>\n",
       "      <td>47.703140</td>\n",
       "      <td>Wet</td>\n",
       "      <td>Daylight</td>\n",
       "      <td>Overcast</td>\n",
       "      <td>N</td>\n",
       "      <td>NaN</td>\n",
       "      <td>NaN</td>\n",
       "      <td>Intersection</td>\n",
       "      <td>At Intersection (intersection related)</td>\n",
       "      <td>Angles</td>\n",
       "      <td>0</td>\n",
       "      <td>0</td>\n",
       "      <td>2</td>\n",
       "      <td>2</td>\n",
       "    </tr>\n",
       "    <tr>\n",
       "      <th>1</th>\n",
       "      <td>-122.347294</td>\n",
       "      <td>47.647172</td>\n",
       "      <td>Wet</td>\n",
       "      <td>Dark - Street Lights On</td>\n",
       "      <td>Raining</td>\n",
       "      <td>0</td>\n",
       "      <td>NaN</td>\n",
       "      <td>NaN</td>\n",
       "      <td>Block</td>\n",
       "      <td>Mid-Block (not related to intersection)</td>\n",
       "      <td>Sideswipe</td>\n",
       "      <td>0</td>\n",
       "      <td>0</td>\n",
       "      <td>2</td>\n",
       "      <td>1</td>\n",
       "    </tr>\n",
       "    <tr>\n",
       "      <th>2</th>\n",
       "      <td>-122.334540</td>\n",
       "      <td>47.607871</td>\n",
       "      <td>Dry</td>\n",
       "      <td>Daylight</td>\n",
       "      <td>Overcast</td>\n",
       "      <td>0</td>\n",
       "      <td>NaN</td>\n",
       "      <td>NaN</td>\n",
       "      <td>Block</td>\n",
       "      <td>Mid-Block (not related to intersection)</td>\n",
       "      <td>Parked Car</td>\n",
       "      <td>0</td>\n",
       "      <td>0</td>\n",
       "      <td>3</td>\n",
       "      <td>1</td>\n",
       "    </tr>\n",
       "    <tr>\n",
       "      <th>3</th>\n",
       "      <td>-122.334803</td>\n",
       "      <td>47.604803</td>\n",
       "      <td>Dry</td>\n",
       "      <td>Daylight</td>\n",
       "      <td>Clear</td>\n",
       "      <td>N</td>\n",
       "      <td>NaN</td>\n",
       "      <td>NaN</td>\n",
       "      <td>Block</td>\n",
       "      <td>Mid-Block (not related to intersection)</td>\n",
       "      <td>Other</td>\n",
       "      <td>0</td>\n",
       "      <td>0</td>\n",
       "      <td>3</td>\n",
       "      <td>1</td>\n",
       "    </tr>\n",
       "    <tr>\n",
       "      <th>4</th>\n",
       "      <td>-122.306426</td>\n",
       "      <td>47.545739</td>\n",
       "      <td>Wet</td>\n",
       "      <td>Daylight</td>\n",
       "      <td>Raining</td>\n",
       "      <td>0</td>\n",
       "      <td>NaN</td>\n",
       "      <td>NaN</td>\n",
       "      <td>Intersection</td>\n",
       "      <td>At Intersection (intersection related)</td>\n",
       "      <td>Angles</td>\n",
       "      <td>0</td>\n",
       "      <td>0</td>\n",
       "      <td>2</td>\n",
       "      <td>2</td>\n",
       "    </tr>\n",
       "  </tbody>\n",
       "</table>\n",
       "</div>"
      ],
      "text/plain": [
       "            X          Y ROADCOND                LIGHTCOND   WEATHER  \\\n",
       "0 -122.323148  47.703140      Wet                 Daylight  Overcast   \n",
       "1 -122.347294  47.647172      Wet  Dark - Street Lights On   Raining   \n",
       "2 -122.334540  47.607871      Dry                 Daylight  Overcast   \n",
       "3 -122.334803  47.604803      Dry                 Daylight     Clear   \n",
       "4 -122.306426  47.545739      Wet                 Daylight   Raining   \n",
       "\n",
       "  UNDERINFL SPEEDING INATTENTIONIND      ADDRTYPE  \\\n",
       "0         N      NaN            NaN  Intersection   \n",
       "1         0      NaN            NaN         Block   \n",
       "2         0      NaN            NaN         Block   \n",
       "3         N      NaN            NaN         Block   \n",
       "4         0      NaN            NaN  Intersection   \n",
       "\n",
       "                              JUNCTIONTYPE COLLISIONTYPE  PEDCOUNT  \\\n",
       "0   At Intersection (intersection related)        Angles         0   \n",
       "1  Mid-Block (not related to intersection)     Sideswipe         0   \n",
       "2  Mid-Block (not related to intersection)    Parked Car         0   \n",
       "3  Mid-Block (not related to intersection)         Other         0   \n",
       "4   At Intersection (intersection related)        Angles         0   \n",
       "\n",
       "   PEDCYLCOUNT  VEHCOUNT  SEVERITYCODE  \n",
       "0            0         2             2  \n",
       "1            0         2             1  \n",
       "2            0         3             1  \n",
       "3            0         3             1  \n",
       "4            0         2             2  "
      ]
     },
     "execution_count": 6,
     "metadata": {},
     "output_type": "execute_result"
    }
   ],
   "source": [
    "#Feature Engineering\n",
    "#Extract relevant data attributes based on the characteristics of the phiscal location and weather conditions of the accident\n",
    "selected_data = df[['X','Y','ROADCOND','LIGHTCOND',\n",
    "               'WEATHER','UNDERINFL','SPEEDING','INATTENTIONIND',\n",
    "                 'ADDRTYPE','JUNCTIONTYPE','COLLISIONTYPE',\n",
    "               'PEDCOUNT','PEDCYLCOUNT','VEHCOUNT','SEVERITYCODE'\n",
    "               ]]\n",
    "selected_data.head()"
   ]
  },
  {
   "cell_type": "code",
   "execution_count": 7,
   "metadata": {},
   "outputs": [
    {
     "name": "stdout",
     "output_type": "stream",
     "text": [
      "<class 'pandas.core.frame.DataFrame'>\n",
      "RangeIndex: 194673 entries, 0 to 194672\n",
      "Data columns (total 15 columns):\n",
      " #   Column          Non-Null Count   Dtype  \n",
      "---  ------          --------------   -----  \n",
      " 0   X               189339 non-null  float64\n",
      " 1   Y               189339 non-null  float64\n",
      " 2   ROADCOND        189661 non-null  object \n",
      " 3   LIGHTCOND       189503 non-null  object \n",
      " 4   WEATHER         189592 non-null  object \n",
      " 5   UNDERINFL       189789 non-null  object \n",
      " 6   SPEEDING        9333 non-null    object \n",
      " 7   INATTENTIONIND  29805 non-null   object \n",
      " 8   ADDRTYPE        192747 non-null  object \n",
      " 9   JUNCTIONTYPE    188344 non-null  object \n",
      " 10  COLLISIONTYPE   189769 non-null  object \n",
      " 11  PEDCOUNT        194673 non-null  int64  \n",
      " 12  PEDCYLCOUNT     194673 non-null  int64  \n",
      " 13  VEHCOUNT        194673 non-null  int64  \n",
      " 14  SEVERITYCODE    194673 non-null  int64  \n",
      "dtypes: float64(2), int64(4), object(9)\n",
      "memory usage: 22.3+ MB\n"
     ]
    }
   ],
   "source": [
    "selected_data.info()"
   ]
  },
  {
   "cell_type": "code",
   "execution_count": 8,
   "metadata": {},
   "outputs": [
    {
     "name": "stderr",
     "output_type": "stream",
     "text": [
      "/home/jupyterlab/conda/envs/python/lib/python3.6/site-packages/ipykernel_launcher.py:3: SettingWithCopyWarning: \n",
      "A value is trying to be set on a copy of a slice from a DataFrame\n",
      "\n",
      "See the caveats in the documentation: https://pandas.pydata.org/pandas-docs/stable/user_guide/indexing.html#returning-a-view-versus-a-copy\n",
      "  This is separate from the ipykernel package so we can avoid doing imports until\n"
     ]
    }
   ],
   "source": [
    "#Data Cleaning\n",
    "#Dropping missing values in target variable, Severity Code\n",
    "selected_data.dropna(subset=['SEVERITYCODE'],axis=0, inplace = True)"
   ]
  },
  {
   "cell_type": "code",
   "execution_count": 9,
   "metadata": {},
   "outputs": [
    {
     "name": "stderr",
     "output_type": "stream",
     "text": [
      "/home/jupyterlab/conda/envs/python/lib/python3.6/site-packages/ipykernel_launcher.py:3: SettingWithCopyWarning: \n",
      "A value is trying to be set on a copy of a slice from a DataFrame\n",
      "\n",
      "See the caveats in the documentation: https://pandas.pydata.org/pandas-docs/stable/user_guide/indexing.html#returning-a-view-versus-a-copy\n",
      "  This is separate from the ipykernel package so we can avoid doing imports until\n"
     ]
    }
   ],
   "source": [
    "# Dropping missing values in Weather, Road Condition, amd Light Condition variables, where inference may not be reasonable. \n",
    "# We also drop missing values in Address Type, Junction Type, and Collision Type variables, since the small volume of missing data wouldn't make a major difference\n",
    "selected_data.dropna(subset=['WEATHER','ROADCOND','LIGHTCOND','ADDRTYPE','JUNCTIONTYPE','COLLISIONTYPE'],axis=0, inplace = True)\n"
   ]
  },
  {
   "cell_type": "code",
   "execution_count": 10,
   "metadata": {},
   "outputs": [
    {
     "name": "stderr",
     "output_type": "stream",
     "text": [
      "/home/jupyterlab/conda/envs/python/lib/python3.6/site-packages/pandas/core/series.py:4569: SettingWithCopyWarning: \n",
      "A value is trying to be set on a copy of a slice from a DataFrame\n",
      "\n",
      "See the caveats in the documentation: https://pandas.pydata.org/pandas-docs/stable/user_guide/indexing.html#returning-a-view-versus-a-copy\n",
      "  method=method,\n"
     ]
    },
    {
     "data": {
      "text/plain": [
       "0    173898\n",
       "1      8997\n",
       "Name: UNDERINFL, dtype: int64"
      ]
     },
     "execution_count": 10,
     "metadata": {},
     "output_type": "execute_result"
    }
   ],
   "source": [
    "#checking variables for data cleaning, replacing values for data uniformity \n",
    "selected_data['UNDERINFL'].replace('N',0,inplace=True)\n",
    "selected_data['UNDERINFL'].replace('Y',1,inplace=True)\n",
    "selected_data['UNDERINFL'].replace('0',0,inplace=True)\n",
    "selected_data['UNDERINFL'].replace('1',1,inplace=True)\n",
    "selected_data['UNDERINFL'].value_counts()"
   ]
  },
  {
   "cell_type": "code",
   "execution_count": 11,
   "metadata": {},
   "outputs": [
    {
     "data": {
      "text/plain": [
       "0    173702\n",
       "1      9193\n",
       "Name: SPEEDING, dtype: int64"
      ]
     },
     "execution_count": 11,
     "metadata": {},
     "output_type": "execute_result"
    }
   ],
   "source": [
    "selected_data['SPEEDING'].replace(np.nan,0,inplace=True)\n",
    "selected_data['SPEEDING'].replace('Y',1,inplace=True)\n",
    "selected_data['SPEEDING'].value_counts()"
   ]
  },
  {
   "cell_type": "code",
   "execution_count": 12,
   "metadata": {},
   "outputs": [
    {
     "data": {
      "text/plain": [
       "0.0    153687\n",
       "1.0     29208\n",
       "Name: INATTENTIONIND, dtype: int64"
      ]
     },
     "execution_count": 12,
     "metadata": {},
     "output_type": "execute_result"
    }
   ],
   "source": [
    "selected_data['INATTENTIONIND'].replace('Y',1,inplace=True)\n",
    "selected_data['INATTENTIONIND'].replace(np.nan,0,inplace=True)\n",
    "selected_data['INATTENTIONIND'].value_counts()"
   ]
  },
  {
   "cell_type": "code",
   "execution_count": 13,
   "metadata": {},
   "outputs": [
    {
     "data": {
      "text/plain": [
       "0    126270\n",
       "1     56625\n",
       "Name: SEVERITYCODE, dtype: int64"
      ]
     },
     "execution_count": 13,
     "metadata": {},
     "output_type": "execute_result"
    }
   ],
   "source": [
    "# Change Severity Codes to 0 and 1, 0 being property damage only accidents and 1 being injury-related accidents\n",
    "selected_data['SEVERITYCODE'].replace(1,0,inplace = True)\n",
    "selected_data['SEVERITYCODE'].replace(2,1,inplace = True)\n",
    "selected_data['SEVERITYCODE'].value_counts()"
   ]
  },
  {
   "cell_type": "code",
   "execution_count": 14,
   "metadata": {},
   "outputs": [
    {
     "name": "stdout",
     "output_type": "stream",
     "text": [
      "<class 'pandas.core.frame.DataFrame'>\n",
      "Int64Index: 167840 entries, 0 to 194672\n",
      "Data columns (total 15 columns):\n",
      " #   Column          Non-Null Count   Dtype  \n",
      "---  ------          --------------   -----  \n",
      " 0   X               165186 non-null  float64\n",
      " 1   Y               165186 non-null  float64\n",
      " 2   ROADCOND        167840 non-null  object \n",
      " 3   LIGHTCOND       167840 non-null  object \n",
      " 4   WEATHER         167840 non-null  object \n",
      " 5   UNDERINFL       167840 non-null  int64  \n",
      " 6   SPEEDING        167840 non-null  int64  \n",
      " 7   INATTENTIONIND  167840 non-null  float64\n",
      " 8   ADDRTYPE        167840 non-null  object \n",
      " 9   JUNCTIONTYPE    167840 non-null  object \n",
      " 10  COLLISIONTYPE   167840 non-null  object \n",
      " 11  PEDCOUNT        167840 non-null  int64  \n",
      " 12  PEDCYLCOUNT     167840 non-null  int64  \n",
      " 13  VEHCOUNT        167840 non-null  int64  \n",
      " 14  SEVERITYCODE    167840 non-null  int64  \n",
      "dtypes: float64(3), int64(6), object(6)\n",
      "memory usage: 20.5+ MB\n"
     ]
    }
   ],
   "source": [
    "# Dropping data entries labeled 'Unknown' or 'Other' in predictor variables Road Condition, Weather Condition, and Light Condition\n",
    "# The resulting dataset, selected_data1 is intended for machine learning analysis\n",
    "indexlist = []\n",
    "for ind in selected_data.index:\n",
    "    if (selected_data['ROADCOND'][ind] == ('Unknown' or 'Other')) or (selected_data['WEATHER'][ind] == ('Unknown' or 'Other')) or (selected_data['LIGHTCOND'][ind] == ('Unknown' or 'Other')) or (selected_data['JUNCTIONTYPE'][ind] == 'Unknown'):\n",
    "        indexlist.append(ind)\n",
    "\n",
    "selected_data1 = selected_data.drop(indexlist)\n",
    "\n",
    "selected_data1.info()"
   ]
  },
  {
   "cell_type": "code",
   "execution_count": 15,
   "metadata": {},
   "outputs": [
    {
     "data": {
      "text/plain": [
       "<AxesSubplot:xlabel='UNDERINFL', ylabel='count'>"
      ]
     },
     "execution_count": 15,
     "metadata": {},
     "output_type": "execute_result"
    },
    {
     "data": {
      "image/png": "[encoded data removed]",
      "text/plain": [
       "<Figure size 1080x576 with 3 Axes>"
      ]
     },
     "metadata": {
      "needs_background": "light"
     },
     "output_type": "display_data"
    }
   ],
   "source": [
    "#Graphing the count of each type of accident based on human error conditions, including speeding, under-influence, and inattention\n",
    "dfg = selected_data[['SPEEDING','INATTENTIONIND','UNDERINFL','SEVERITYCODE']] \n",
    "dfg['SEVERITYCODE'].replace(0,'property damage',inplace = True)\n",
    "dfg['SEVERITYCODE'].replace(1,'injury-related',inplace = True)\n",
    "import seaborn as sns\n",
    "f,axes = plt.subplots(1,3,figsize = (15,8),sharex = True)\n",
    "sns.countplot(x='SPEEDING',hue='SEVERITYCODE',data = dfg, palette = 'Set1',ax = axes[0])\n",
    "sns.countplot(x='INATTENTIONIND',hue='SEVERITYCODE',data = dfg,palette = 'Set2',ax = axes[1])\n",
    "sns.countplot(x='UNDERINFL',hue='SEVERITYCODE',data = dfg,palette = 'Set3',ax = axes[2])"
   ]
  },
  {
   "cell_type": "code",
   "execution_count": 16,
   "metadata": {},
   "outputs": [
    {
     "data": {
      "image/png": "[encoded data removed]",
      "text/plain": [
       "<Figure size 720x360 with 1 Axes>"
      ]
     },
     "metadata": {
      "needs_background": "light"
     },
     "output_type": "display_data"
    }
   ],
   "source": [
    "# Exploratory analysis of accidents based on environment, including weather condition, road condition, and lighting condition, disregarding 'unknown' and 'other data'\n",
    "selected_data1['WEATHER'].value_counts().plot(kind='bar',figsize=(10,5),color='orange')\n",
    "plt.title('Accident Count by Weather Type') \n",
    "plt.ylabel('Count')\n",
    "for index,value in enumerate(selected_data1['WEATHER'].value_counts()):\n",
    "    label = format(int(value),',')\n",
    "    plt.annotate (label,xy = (index-0.3,value),color='black')"
   ]
  },
  {
   "cell_type": "code",
   "execution_count": 17,
   "metadata": {},
   "outputs": [
    {
     "data": {
      "image/png": "[encoded data removed]",
      "text/plain": [
       "<Figure size 720x360 with 1 Axes>"
      ]
     },
     "metadata": {
      "needs_background": "light"
     },
     "output_type": "display_data"
    }
   ],
   "source": [
    "selected_data1['ROADCOND'].value_counts().plot(kind='bar',figsize=(10,5),color='cornflowerblue')\n",
    "plt.title('Accident Count by Road Condition') \n",
    "plt.ylabel('Count')\n",
    "for index,value in enumerate(selected_data1['ROADCOND'].value_counts()):\n",
    "    label = format(int(value),',')\n",
    "    plt.annotate (label,xy = (index-0.25,value),color='black')"
   ]
  },
  {
   "cell_type": "code",
   "execution_count": 18,
   "metadata": {},
   "outputs": [
    {
     "data": {
      "image/png": "[encoded data removed]",
      "text/plain": [
       "<Figure size 720x360 with 1 Axes>"
      ]
     },
     "metadata": {
      "needs_background": "light"
     },
     "output_type": "display_data"
    }
   ],
   "source": [
    "selected_data1['LIGHTCOND'].value_counts().plot(kind='bar',figsize=(10,5),color='lightpink')\n",
    "plt.title('Accident Count by Light Condition') \n",
    "plt.ylabel('Count')\n",
    "for index,value in enumerate(selected_data1['LIGHTCOND'].value_counts()):\n",
    "    label = format(int(value),',')\n",
    "    plt.annotate (label,xy = (index-0.25,value),color='black')"
   ]
  },
  {
   "cell_type": "code",
   "execution_count": 19,
   "metadata": {},
   "outputs": [
    {
     "data": {
      "text/plain": [
       "Daylight                    111143\n",
       "Dark - Street Lights On      46109\n",
       "Dusk                          5567\n",
       "Dawn                          2382\n",
       "Dark - No Street Lights       1357\n",
       "Dark - Street Lights Off      1089\n",
       "Other                          184\n",
       "Dark - Unknown Lighting          9\n",
       "Name: LIGHTCOND, dtype: int64"
      ]
     },
     "execution_count": 19,
     "metadata": {},
     "output_type": "execute_result"
    }
   ],
   "source": [
    "selected_data1['LIGHTCOND'].value_counts()"
   ]
  },
  {
   "cell_type": "code",
   "execution_count": 20,
   "metadata": {},
   "outputs": [],
   "source": [
    "# given the small volume of some of the categorical variables, replacing them with an inclusive 'other poor conditions category', also removing 'other' and 'unknown' values\n",
    "df_sev = selected_data1.copy()\n",
    "df_sev['WEATHER'].replace('Snowing','Other Poor Conditions',inplace=True)\n",
    "df_sev['WEATHER'].replace('Fog/Smog/Smoke','Other Poor Conditions',inplace=True)\n",
    "df_sev['WEATHER'].replace('Sleet/Hail/Freezing Rain','Other Poor Conditions',inplace=True)\n",
    "df_sev['WEATHER'].replace('Blowing Sand/Dirt','Other Poor Conditions',inplace=True)\n",
    "df_sev['WEATHER'].replace('Severe Crosswind','Other Poor Conditions',inplace=True)\n",
    "df_sev['WEATHER'].replace('Partly Cloudy','Other Poor Conditions',inplace=True)\n",
    "df_sev['ROADCOND'].replace('Ice','Other Poor Road Conditions',inplace=True)\n",
    "df_sev['ROADCOND'].replace('Snow/Slush','Other Poor Road Conditions',inplace=True)\n",
    "df_sev['ROADCOND'].replace('Standing Water','Other Poor Road Conditions',inplace=True)\n",
    "df_sev['ROADCOND'].replace('Sand/Mud/Dirt','Other Poor Road Conditions',inplace=True)\n",
    "df_sev['ROADCOND'].replace('Oil','Other Poor Road Conditions',inplace=True)\n",
    "df_sev['LIGHTCOND'].replace('Dark - No Street Lights','Dark without lights',inplace=True)\n",
    "df_sev['LIGHTCOND'].replace('Dark - Street Lights Off','Dark without lights',inplace=True)\n",
    "df_sev['LIGHTCOND'].replace('Dark - No Street Lights','Dark without lights',inplace=True)\n",
    "\n",
    "df_sev = df_sev[df_sev['WEATHER'] != 'Other']\n",
    "df_sev = df_sev[df_sev['ROADCOND'] != 'Other']\n",
    "df_sev = df_sev[df_sev['LIGHTCOND'] != 'Other']\n",
    "df_sev = df_sev[df_sev['LIGHTCOND'] != 'Dark - Unknown Lighting']\n",
    "\n",
    "df_sev['LIGHTCOND'].replace('Dark - No Street Lights','Dark without lights',inplace=True)\n",
    "df_sev['LIGHTCOND'].replace('Dark - Street Lights Off','Dark without lights',inplace=True)\n",
    "df_sev['LIGHTCOND'].replace('Dark - No Street Lights','Dark without lights',inplace=True)\n",
    "\n",
    "df_sev0 = df_sev[df_sev['SEVERITYCODE'] ==0 ]\n",
    "df_sev1 = df_sev[df_sev['SEVERITYCODE'] ==1 ]\n",
    "\n"
   ]
  },
  {
   "cell_type": "code",
   "execution_count": 21,
   "metadata": {},
   "outputs": [
    {
     "data": {
      "text/plain": [
       "<matplotlib.legend.Legend at 0x7f5b8eafc780>"
      ]
     },
     "execution_count": 21,
     "metadata": {},
     "output_type": "execute_result"
    },
    {
     "data": {
      "image/png": "[encoded data removed]",
      "text/plain": [
       "<Figure size 720x720 with 1 Axes>"
      ]
     },
     "metadata": {},
     "output_type": "display_data"
    }
   ],
   "source": [
    "# exploratory analaysis using pie charts, for comparison on the impact of weather, road, and light conditions for different levels of accident severity\n",
    "weatherpie0 = df_sev0['WEATHER'].value_counts()\n",
    "weatherpie0.plot(kind='pie',figsize=(10,10),autopct='%1.1f%%')\n",
    "plt.title('Property Damage Accident % by Weather Type')\n",
    "plt.legend(labels = weatherpie0.index, loc = 'upper right')"
   ]
  },
  {
   "cell_type": "code",
   "execution_count": 22,
   "metadata": {},
   "outputs": [
    {
     "data": {
      "text/plain": [
       "<matplotlib.legend.Legend at 0x7f5b8eb170f0>"
      ]
     },
     "execution_count": 22,
     "metadata": {},
     "output_type": "execute_result"
    },
    {
     "data": {
      "image/png": "[encoded data removed]",
      "text/plain": [
       "<Figure size 720x720 with 1 Axes>"
      ]
     },
     "metadata": {},
     "output_type": "display_data"
    }
   ],
   "source": [
    "weatherpie1 = df_sev1['WEATHER'].value_counts()\n",
    "weatherpie1.plot(kind='pie',figsize=(10,10),autopct='%1.1f%%')\n",
    "plt.title('Injury-related Accident % by Weather Type')\n",
    "plt.legend(labels = weatherpie0.index, loc = 'upper right')"
   ]
  },
  {
   "cell_type": "code",
   "execution_count": 23,
   "metadata": {},
   "outputs": [
    {
     "data": {
      "text/plain": [
       "<matplotlib.legend.Legend at 0x7f5b8e9e94e0>"
      ]
     },
     "execution_count": 23,
     "metadata": {},
     "output_type": "execute_result"
    },
    {
     "data": {
      "image/png": "[encoded data removed]",
      "text/plain": [
       "<Figure size 720x720 with 1 Axes>"
      ]
     },
     "metadata": {},
     "output_type": "display_data"
    }
   ],
   "source": [
    "roadpie0 = df_sev0['ROADCOND'].value_counts()\n",
    "roadpie0.plot(kind='pie',figsize=(10,10),autopct='%1.1f%%')\n",
    "plt.title('Property Damage Accident % by Road Conditions')\n",
    "plt.legend(labels = roadpie0.index, loc = 'upper right')"
   ]
  },
  {
   "cell_type": "code",
   "execution_count": 24,
   "metadata": {},
   "outputs": [
    {
     "data": {
      "text/plain": [
       "<matplotlib.legend.Legend at 0x7f5b8eb8eeb8>"
      ]
     },
     "execution_count": 24,
     "metadata": {},
     "output_type": "execute_result"
    },
    {
     "data": {
      "image/png": "[encoded data removed]",
      "text/plain": [
       "<Figure size 720x720 with 1 Axes>"
      ]
     },
     "metadata": {},
     "output_type": "display_data"
    }
   ],
   "source": [
    "roadpie1 = df_sev1['ROADCOND'].value_counts()\n",
    "roadpie1.plot(kind='pie',figsize=(10,10),autopct='%1.1f%%')\n",
    "plt.title('Injury-related Accident % by Road Conditions')\n",
    "plt.legend(labels = roadpie1.index, loc = 'upper right')"
   ]
  },
  {
   "cell_type": "code",
   "execution_count": 25,
   "metadata": {},
   "outputs": [
    {
     "data": {
      "text/plain": [
       "<matplotlib.legend.Legend at 0x7f5b8e99a518>"
      ]
     },
     "execution_count": 25,
     "metadata": {},
     "output_type": "execute_result"
    },
    {
     "data": {
      "image/png": "[encoded data removed]",
      "text/plain": [
       "<Figure size 720x720 with 1 Axes>"
      ]
     },
     "metadata": {},
     "output_type": "display_data"
    }
   ],
   "source": [
    "lightpie0 = df_sev0['LIGHTCOND'].value_counts()\n",
    "lightpie0.plot(kind='pie',figsize=(10,10),autopct='%1.1f%%')\n",
    "plt.title('Property Damage Accident % by Light Conditions')\n",
    "plt.legend(labels = lightpie0.index, loc = 'upper right')"
   ]
  },
  {
   "cell_type": "code",
   "execution_count": 26,
   "metadata": {},
   "outputs": [
    {
     "data": {
      "text/plain": [
       "<matplotlib.legend.Legend at 0x7f5b8eb17f60>"
      ]
     },
     "execution_count": 26,
     "metadata": {},
     "output_type": "execute_result"
    },
    {
     "data": {
      "image/png": "[encoded data removed]",
      "text/plain": [
       "<Figure size 720x720 with 1 Axes>"
      ]
     },
     "metadata": {},
     "output_type": "display_data"
    }
   ],
   "source": [
    "lightpie1 = df_sev1['LIGHTCOND'].value_counts()\n",
    "lightpie1.plot(kind='pie',figsize=(10,10),autopct='%1.1f%%')\n",
    "plt.title('Injury-related Accident % by Light Conditions')\n",
    "plt.legend(labels = lightpie1.index, loc = 'upper right')"
   ]
  },
  {
   "cell_type": "code",
   "execution_count": 27,
   "metadata": {},
   "outputs": [
    {
     "data": {
      "text/plain": [
       "<matplotlib.legend.Legend at 0x7f5b8e871da0>"
      ]
     },
     "execution_count": 27,
     "metadata": {},
     "output_type": "execute_result"
    },
    {
     "data": {
      "image/png": "[encoded data removed]",
      "text/plain": [
       "<Figure size 864x432 with 1 Axes>"
      ]
     },
     "metadata": {},
     "output_type": "display_data"
    }
   ],
   "source": [
    "#Exploratory Analysis\n",
    "#Accident counts by location type\n",
    "loctype = selected_data['ADDRTYPE'].value_counts()\n",
    "explodelist = [0.05,0.05,0.2]\n",
    "loctype.plot(kind='pie',figsize=(12,6),autopct='%1.1f%%',explode=explodelist)\n",
    "plt.title('Accidents Distribution by Location Type')\n",
    "plt.legend(labels = loctype.index, loc = 'upper right')"
   ]
  },
  {
   "cell_type": "code",
   "execution_count": 28,
   "metadata": {},
   "outputs": [
    {
     "name": "stdout",
     "output_type": "stream",
     "text": [
      "<class 'pandas.core.frame.DataFrame'>\n",
      "Int64Index: 167310 entries, 0 to 194672\n",
      "Data columns (total 13 columns):\n",
      " #   Column          Non-Null Count   Dtype  \n",
      "---  ------          --------------   -----  \n",
      " 0   ROADCOND        167310 non-null  object \n",
      " 1   LIGHTCOND       167310 non-null  object \n",
      " 2   WEATHER         167310 non-null  object \n",
      " 3   UNDERINFL       167310 non-null  int64  \n",
      " 4   SPEEDING        167310 non-null  int64  \n",
      " 5   INATTENTIONIND  167310 non-null  float64\n",
      " 6   ADDRTYPE        167310 non-null  object \n",
      " 7   JUNCTIONTYPE    167310 non-null  object \n",
      " 8   COLLISIONTYPE   167310 non-null  object \n",
      " 9   PEDCOUNT        167310 non-null  int64  \n",
      " 10  PEDCYLCOUNT     167310 non-null  int64  \n",
      " 11  VEHCOUNT        167310 non-null  int64  \n",
      " 12  SEVERITYCODE    167310 non-null  int64  \n",
      "dtypes: float64(1), int64(6), object(6)\n",
      "memory usage: 17.9+ MB\n"
     ]
    }
   ],
   "source": [
    "# creating a dataset specifically used for machine learning algorithmns / predictive modelling\n",
    "mldf = df_sev.copy()\n",
    "mldf.drop(columns=['X','Y'],axis=0,inplace = True)\n",
    "mldf.info()"
   ]
  },
  {
   "cell_type": "code",
   "execution_count": 29,
   "metadata": {},
   "outputs": [
    {
     "name": "stdout",
     "output_type": "stream",
     "text": [
      "<class 'pandas.core.frame.DataFrame'>\n",
      "Int64Index: 167310 entries, 0 to 194672\n",
      "Data columns (total 44 columns):\n",
      " #   Column                                             Non-Null Count   Dtype  \n",
      "---  ------                                             --------------   -----  \n",
      " 0   ROADCOND                                           167310 non-null  object \n",
      " 1   LIGHTCOND                                          167310 non-null  object \n",
      " 2   WEATHER                                            167310 non-null  object \n",
      " 3   UNDERINFL                                          167310 non-null  int64  \n",
      " 4   SPEEDING                                           167310 non-null  int64  \n",
      " 5   INATTENTIONIND                                     167310 non-null  float64\n",
      " 6   ADDRTYPE                                           167310 non-null  object \n",
      " 7   JUNCTIONTYPE                                       167310 non-null  object \n",
      " 8   COLLISIONTYPE                                      167310 non-null  object \n",
      " 9   PEDCOUNT                                           167310 non-null  int64  \n",
      " 10  PEDCYLCOUNT                                        167310 non-null  int64  \n",
      " 11  VEHCOUNT                                           167310 non-null  int64  \n",
      " 12  SEVERITYCODE                                       167310 non-null  int64  \n",
      " 13  Clear                                              167310 non-null  uint8  \n",
      " 14  Other Poor Conditions                              167310 non-null  uint8  \n",
      " 15  Overcast                                           167310 non-null  uint8  \n",
      " 16  Raining                                            167310 non-null  uint8  \n",
      " 17  Dry                                                167310 non-null  uint8  \n",
      " 18  Other Poor Road Conditions                         167310 non-null  uint8  \n",
      " 19  Wet                                                167310 non-null  uint8  \n",
      " 20  Dark - Street Lights On                            167310 non-null  uint8  \n",
      " 21  Dark without lights                                167310 non-null  uint8  \n",
      " 22  Dawn                                               167310 non-null  uint8  \n",
      " 23  Daylight                                           167310 non-null  uint8  \n",
      " 24  Dusk                                               167310 non-null  uint8  \n",
      " 25  Alley                                              167310 non-null  uint8  \n",
      " 26  Block                                              167310 non-null  uint8  \n",
      " 27  Intersection                                       167310 non-null  uint8  \n",
      " 28  At Intersection (but not related to intersection)  167310 non-null  uint8  \n",
      " 29  At Intersection (intersection related)             167310 non-null  uint8  \n",
      " 30  Driveway Junction                                  167310 non-null  uint8  \n",
      " 31  Mid-Block (but intersection related)               167310 non-null  uint8  \n",
      " 32  Mid-Block (not related to intersection)            167310 non-null  uint8  \n",
      " 33  Ramp Junction                                      167310 non-null  uint8  \n",
      " 34  Angles                                             167310 non-null  uint8  \n",
      " 35  Cycles                                             167310 non-null  uint8  \n",
      " 36  Head On                                            167310 non-null  uint8  \n",
      " 37  Left Turn                                          167310 non-null  uint8  \n",
      " 38  Other                                              167310 non-null  uint8  \n",
      " 39  Parked Car                                         167310 non-null  uint8  \n",
      " 40  Pedestrian                                         167310 non-null  uint8  \n",
      " 41  Rear Ended                                         167310 non-null  uint8  \n",
      " 42  Right Turn                                         167310 non-null  uint8  \n",
      " 43  Sideswipe                                          167310 non-null  uint8  \n",
      "dtypes: float64(1), int64(6), object(6), uint8(31)\n",
      "memory usage: 27.8+ MB\n"
     ]
    }
   ],
   "source": [
    "# one-hot encoding categorical variables \n",
    "weather_dum = pd.get_dummies(mldf['WEATHER'])\n",
    "road_dum = pd.get_dummies(mldf['ROADCOND'])\n",
    "light_dum = pd.get_dummies(mldf['LIGHTCOND'])\n",
    "add_dum = pd.get_dummies(mldf['ADDRTYPE'])\n",
    "junc_dum = pd.get_dummies(mldf['JUNCTIONTYPE'])\n",
    "col_dum = pd.get_dummies(mldf['COLLISIONTYPE'])\n",
    "\n",
    "# merge the dataset with the encoded variables\n",
    "mldf=mldf.join(weather_dum)\n",
    "mldf=mldf.join(road_dum)\n",
    "mldf=mldf.join(light_dum)\n",
    "mldf=mldf.join(add_dum)\n",
    "mldf=mldf.join(junc_dum)\n",
    "mldf=mldf.join(col_dum)\n",
    "\n",
    "mldf.info()"
   ]
  },
  {
   "cell_type": "code",
   "execution_count": 30,
   "metadata": {},
   "outputs": [
    {
     "data": {
      "text/plain": [
       "0    112005\n",
       "1     55305\n",
       "Name: SEVERITYCODE, dtype: int64"
      ]
     },
     "execution_count": 30,
     "metadata": {},
     "output_type": "execute_result"
    }
   ],
   "source": [
    "mldf['SEVERITYCODE'].value_counts()"
   ]
  },
  {
   "cell_type": "code",
   "execution_count": 31,
   "metadata": {},
   "outputs": [],
   "source": [
    "import numpy as np"
   ]
  },
  {
   "cell_type": "code",
   "execution_count": 32,
   "metadata": {},
   "outputs": [
    {
     "name": "stdout",
     "output_type": "stream",
     "text": [
      "<class 'pandas.core.frame.DataFrame'>\n",
      "Int64Index: 110610 entries, 73424 to 194671\n",
      "Data columns (total 44 columns):\n",
      " #   Column                                             Non-Null Count   Dtype  \n",
      "---  ------                                             --------------   -----  \n",
      " 0   ROADCOND                                           110610 non-null  object \n",
      " 1   LIGHTCOND                                          110610 non-null  object \n",
      " 2   WEATHER                                            110610 non-null  object \n",
      " 3   UNDERINFL                                          110610 non-null  int64  \n",
      " 4   SPEEDING                                           110610 non-null  int64  \n",
      " 5   INATTENTIONIND                                     110610 non-null  float64\n",
      " 6   ADDRTYPE                                           110610 non-null  object \n",
      " 7   JUNCTIONTYPE                                       110610 non-null  object \n",
      " 8   COLLISIONTYPE                                      110610 non-null  object \n",
      " 9   PEDCOUNT                                           110610 non-null  int64  \n",
      " 10  PEDCYLCOUNT                                        110610 non-null  int64  \n",
      " 11  VEHCOUNT                                           110610 non-null  int64  \n",
      " 12  SEVERITYCODE                                       110610 non-null  int64  \n",
      " 13  Clear                                              110610 non-null  uint8  \n",
      " 14  Other Poor Conditions                              110610 non-null  uint8  \n",
      " 15  Overcast                                           110610 non-null  uint8  \n",
      " 16  Raining                                            110610 non-null  uint8  \n",
      " 17  Dry                                                110610 non-null  uint8  \n",
      " 18  Other Poor Road Conditions                         110610 non-null  uint8  \n",
      " 19  Wet                                                110610 non-null  uint8  \n",
      " 20  Dark - Street Lights On                            110610 non-null  uint8  \n",
      " 21  Dark without lights                                110610 non-null  uint8  \n",
      " 22  Dawn                                               110610 non-null  uint8  \n",
      " 23  Daylight                                           110610 non-null  uint8  \n",
      " 24  Dusk                                               110610 non-null  uint8  \n",
      " 25  Alley                                              110610 non-null  uint8  \n",
      " 26  Block                                              110610 non-null  uint8  \n",
      " 27  Intersection                                       110610 non-null  uint8  \n",
      " 28  At Intersection (but not related to intersection)  110610 non-null  uint8  \n",
      " 29  At Intersection (intersection related)             110610 non-null  uint8  \n",
      " 30  Driveway Junction                                  110610 non-null  uint8  \n",
      " 31  Mid-Block (but intersection related)               110610 non-null  uint8  \n",
      " 32  Mid-Block (not related to intersection)            110610 non-null  uint8  \n",
      " 33  Ramp Junction                                      110610 non-null  uint8  \n",
      " 34  Angles                                             110610 non-null  uint8  \n",
      " 35  Cycles                                             110610 non-null  uint8  \n",
      " 36  Head On                                            110610 non-null  uint8  \n",
      " 37  Left Turn                                          110610 non-null  uint8  \n",
      " 38  Other                                              110610 non-null  uint8  \n",
      " 39  Parked Car                                         110610 non-null  uint8  \n",
      " 40  Pedestrian                                         110610 non-null  uint8  \n",
      " 41  Rear Ended                                         110610 non-null  uint8  \n",
      " 42  Right Turn                                         110610 non-null  uint8  \n",
      " 43  Sideswipe                                          110610 non-null  uint8  \n",
      "dtypes: float64(1), int64(6), object(6), uint8(31)\n",
      "memory usage: 15.1+ MB\n"
     ]
    }
   ],
   "source": [
    "# resizing the sample dataset to address data imbalance\n",
    "mldf_major = mldf[mldf['SEVERITYCODE']==0]\n",
    "mldf_minor = mldf[mldf['SEVERITYCODE']==1]\n",
    "mldf_major_downsize = mldf_major.sample(55305)\n",
    "mldf_resampled = pd.concat([mldf_major_downsize,mldf_minor])\n",
    "mldf_resampled.info()"
   ]
  },
  {
   "cell_type": "code",
   "execution_count": 33,
   "metadata": {},
   "outputs": [
    {
     "data": {
      "text/plain": [
       "1    55305\n",
       "0    55305\n",
       "Name: SEVERITYCODE, dtype: int64"
      ]
     },
     "execution_count": 33,
     "metadata": {},
     "output_type": "execute_result"
    }
   ],
   "source": [
    "mldf_resampled['SEVERITYCODE'].value_counts()"
   ]
  },
  {
   "cell_type": "code",
   "execution_count": 34,
   "metadata": {},
   "outputs": [],
   "source": [
    "# creating a feature and a target dataset for predictive modelling\n",
    "Features = mldf_resampled.drop(['SEVERITYCODE','ROADCOND','LIGHTCOND','WEATHER','ADDRTYPE','JUNCTIONTYPE','COLLISIONTYPE'],axis=1)\n",
    "Target = mldf_resampled['SEVERITYCODE']"
   ]
  },
  {
   "cell_type": "code",
   "execution_count": 35,
   "metadata": {},
   "outputs": [
    {
     "name": "stdout",
     "output_type": "stream",
     "text": [
      "<class 'pandas.core.frame.DataFrame'>\n",
      "Int64Index: 110610 entries, 73424 to 194671\n",
      "Data columns (total 37 columns):\n",
      " #   Column                                             Non-Null Count   Dtype\n",
      "---  ------                                             --------------   -----\n",
      " 0   UNDERINFL                                          110610 non-null  int64\n",
      " 1   SPEEDING                                           110610 non-null  int64\n",
      " 2   INATTENTIONIND                                     110610 non-null  int64\n",
      " 3   PEDCOUNT                                           110610 non-null  int64\n",
      " 4   PEDCYLCOUNT                                        110610 non-null  int64\n",
      " 5   VEHCOUNT                                           110610 non-null  int64\n",
      " 6   Clear                                              110610 non-null  uint8\n",
      " 7   Other Poor Conditions                              110610 non-null  uint8\n",
      " 8   Overcast                                           110610 non-null  uint8\n",
      " 9   Raining                                            110610 non-null  uint8\n",
      " 10  Dry                                                110610 non-null  uint8\n",
      " 11  Other Poor Road Conditions                         110610 non-null  uint8\n",
      " 12  Wet                                                110610 non-null  uint8\n",
      " 13  Dark - Street Lights On                            110610 non-null  uint8\n",
      " 14  Dark without lights                                110610 non-null  uint8\n",
      " 15  Dawn                                               110610 non-null  uint8\n",
      " 16  Daylight                                           110610 non-null  uint8\n",
      " 17  Dusk                                               110610 non-null  uint8\n",
      " 18  Alley                                              110610 non-null  uint8\n",
      " 19  Block                                              110610 non-null  uint8\n",
      " 20  Intersection                                       110610 non-null  uint8\n",
      " 21  At Intersection (but not related to intersection)  110610 non-null  uint8\n",
      " 22  At Intersection (intersection related)             110610 non-null  uint8\n",
      " 23  Driveway Junction                                  110610 non-null  uint8\n",
      " 24  Mid-Block (but intersection related)               110610 non-null  uint8\n",
      " 25  Mid-Block (not related to intersection)            110610 non-null  uint8\n",
      " 26  Ramp Junction                                      110610 non-null  uint8\n",
      " 27  Angles                                             110610 non-null  uint8\n",
      " 28  Cycles                                             110610 non-null  uint8\n",
      " 29  Head On                                            110610 non-null  uint8\n",
      " 30  Left Turn                                          110610 non-null  uint8\n",
      " 31  Other                                              110610 non-null  uint8\n",
      " 32  Parked Car                                         110610 non-null  uint8\n",
      " 33  Pedestrian                                         110610 non-null  uint8\n",
      " 34  Rear Ended                                         110610 non-null  uint8\n",
      " 35  Right Turn                                         110610 non-null  uint8\n",
      " 36  Sideswipe                                          110610 non-null  uint8\n",
      "dtypes: int64(6), uint8(31)\n",
      "memory usage: 9.2 MB\n"
     ]
    }
   ],
   "source": [
    "# checking and fixing data format\n",
    "Features = Features.astype({'INATTENTIONIND':np.int64})\n",
    "Features.info()"
   ]
  },
  {
   "cell_type": "code",
   "execution_count": 36,
   "metadata": {},
   "outputs": [
    {
     "name": "stderr",
     "output_type": "stream",
     "text": [
      "/home/jupyterlab/conda/envs/python/lib/python3.6/site-packages/sklearn/preprocessing/data.py:625: DataConversionWarning: Data with input dtype uint8, int64 were all converted to float64 by StandardScaler.\n",
      "  return self.partial_fit(X, y)\n",
      "/home/jupyterlab/conda/envs/python/lib/python3.6/site-packages/ipykernel_launcher.py:2: DataConversionWarning: Data with input dtype uint8, int64 were all converted to float64 by StandardScaler.\n",
      "  \n"
     ]
    }
   ],
   "source": [
    "# standardized data preprocessing for machine learning models\n",
    "from sklearn import preprocessing\n",
    "X = preprocessing.StandardScaler().fit(Features).transform(Features)\n",
    "Y = Target"
   ]
  },
  {
   "cell_type": "code",
   "execution_count": 37,
   "metadata": {},
   "outputs": [],
   "source": [
    "# train/test split of the original data sample with size = 0.3 for test sample\n",
    "from sklearn.model_selection import train_test_split\n",
    "x_train, x_test, y_train, y_test = train_test_split(X,Y,test_size=0.3,random_state=8)"
   ]
  },
  {
   "cell_type": "code",
   "execution_count": 38,
   "metadata": {},
   "outputs": [],
   "source": [
    "# import necessary packages and functions\n",
    "from sklearn.tree import DecisionTreeClassifier\n",
    "from sklearn.ensemble import RandomForestClassifier\n",
    "from sklearn.linear_model import LogisticRegression\n",
    "from sklearn.neighbors import KNeighborsClassifier\n",
    "from sklearn import svm\n",
    "from sklearn.metrics import f1_score\n",
    "from sklearn.metrics import log_loss\n",
    "from sklearn.metrics import accuracy_score\n",
    "from sklearn.metrics import jaccard_similarity_score\n",
    "from sklearn.metrics import confusion_matrix\n",
    "from sklearn.metrics import classification_report\n",
    "from sklearn import metrics"
   ]
  },
  {
   "cell_type": "code",
   "execution_count": 39,
   "metadata": {},
   "outputs": [
    {
     "name": "stdout",
     "output_type": "stream",
     "text": [
      "Test Set Accuracy: 0.683\n",
      "Train Set Accuracy: 0.681\n",
      "Jaccard Similarity Score: 0.683\n",
      "F1 Score: 0.677\n",
      "              precision    recall  f1-score   support\n",
      "\n",
      "           0       0.75      0.55      0.63     16569\n",
      "           1       0.65      0.81      0.72     16614\n",
      "\n",
      "   micro avg       0.68      0.68      0.68     33183\n",
      "   macro avg       0.70      0.68      0.68     33183\n",
      "weighted avg       0.70      0.68      0.68     33183\n",
      "\n"
     ]
    }
   ],
   "source": [
    "# Building a Decision Tree Model(dtm)\n",
    "dtm = DecisionTreeClassifier(criterion='entropy',max_depth=9)\n",
    "dtm.fit(x_train,y_train)\n",
    "yhat = dtm.predict(x_test)\n",
    "print('Test Set Accuracy: %.3f' %accuracy_score(y_test,yhat))\n",
    "print('Train Set Accuracy: %.3f' %accuracy_score(y_train,dtm.predict(x_train)))\n",
    "print('Jaccard Similarity Score: %.3f' %jaccard_similarity_score(y_test, yhat))\n",
    "print('F1 Score: %.3f' % f1_score(y_test,yhat,average='weighted'))\n",
    "print(classification_report(y_test,yhat))"
   ]
  },
  {
   "cell_type": "code",
   "execution_count": 40,
   "metadata": {},
   "outputs": [
    {
     "name": "stdout",
     "output_type": "stream",
     "text": [
      "at max depth 1, the accuracy score is 0.6098001988970256\n",
      "at max depth 2, the accuracy score is 0.6098001988970256\n",
      "at max depth 3, the accuracy score is 0.6095289756803183\n",
      "at max depth 4, the accuracy score is 0.6574752132115842\n",
      "at max depth 5, the accuracy score is 0.6762197510773589\n",
      "at max depth 6, the accuracy score is 0.6762197510773589\n",
      "at max depth 7, the accuracy score is 0.6816743513244734\n",
      "at max depth 8, the accuracy score is 0.6819154386282132\n",
      "at max depth 9, the accuracy score is 0.6825482928005304\n",
      "at max depth 10, the accuracy score is 0.6857125636621162\n",
      "at max depth 11, the accuracy score is 0.6857125636621162\n",
      "at max depth 12, the accuracy score is 0.6839345447970346\n",
      "at max depth 13, the accuracy score is 0.6843263116656119\n",
      "at max depth 14, the accuracy score is 0.6842961757526445\n",
      "at max depth 15, the accuracy score is 0.6827893801042703\n"
     ]
    }
   ],
   "source": [
    "# finding the optimal depth of decision tree model, with the highest at max depth 9\n",
    "for i in range(1,16):\n",
    "    dtmt = DecisionTreeClassifier(criterion='entropy',max_depth=i)\n",
    "    dtmt.fit(x_train,y_train)\n",
    "    print('at max depth {}, the accuracy score is {}'.format(i,accuracy_score(y_test,dtmt.predict(x_test))))"
   ]
  },
  {
   "cell_type": "code",
   "execution_count": 41,
   "metadata": {},
   "outputs": [
    {
     "name": "stdout",
     "output_type": "stream",
     "text": [
      "Test Set Accuracy: 0.678\n",
      "Train Set Accuracy: 0.703\n",
      "Jaccard Similarity Score: 0.678\n",
      "F1 Score: 0.676\n",
      "              precision    recall  f1-score   support\n",
      "\n",
      "           0       0.71      0.59      0.65     16569\n",
      "           1       0.65      0.76      0.70     16614\n",
      "\n",
      "   micro avg       0.68      0.68      0.68     33183\n",
      "   macro avg       0.68      0.68      0.68     33183\n",
      "weighted avg       0.68      0.68      0.68     33183\n",
      "\n"
     ]
    }
   ],
   "source": [
    "# builiding, fitting, and predictions with random forest classification\n",
    "rfm = RandomForestClassifier(n_estimators=100,criterion='entropy',random_state=0)\n",
    "rfm.fit(x_train,y_train)\n",
    "rfmyhat = rfm.predict(x_test)\n",
    "print('Test Set Accuracy: %.3f' %accuracy_score(y_test,rfmyhat))\n",
    "print('Train Set Accuracy: %.3f' %accuracy_score(y_train,rfm.predict(x_train)))\n",
    "print('Jaccard Similarity Score: %.3f' %jaccard_similarity_score(y_test, rfmyhat))\n",
    "print('F1 Score: %.3f' % f1_score(y_test,rfmyhat,average='weighted'))\n",
    "print(classification_report(y_test,rfmyhat))"
   ]
  },
  {
   "cell_type": "code",
   "execution_count": 42,
   "metadata": {},
   "outputs": [],
   "source": [
    "# using feature_importances_ to show usefulness of variables in the random forest model\n",
    "showimportance = pd.DataFrame({'variables':Features.columns,'importance':rfm.feature_importances_})\n",
    "showimportance = showimportance.sort_values('importance',ascending=False)\n",
    "showimportance = showimportance.reset_index().drop(columns='index')"
   ]
  },
  {
   "cell_type": "code",
   "execution_count": 43,
   "metadata": {},
   "outputs": [
    {
     "data": {
      "text/html": [
       "<div>\n",
       "<style scoped>\n",
       "    .dataframe tbody tr th:only-of-type {\n",
       "        vertical-align: middle;\n",
       "    }\n",
       "\n",
       "    .dataframe tbody tr th {\n",
       "        vertical-align: top;\n",
       "    }\n",
       "\n",
       "    .dataframe thead th {\n",
       "        text-align: right;\n",
       "    }\n",
       "</style>\n",
       "<table border=\"1\" class=\"dataframe\">\n",
       "  <thead>\n",
       "    <tr style=\"text-align: right;\">\n",
       "      <th></th>\n",
       "      <th>variables</th>\n",
       "      <th>importance</th>\n",
       "    </tr>\n",
       "  </thead>\n",
       "  <tbody>\n",
       "    <tr>\n",
       "      <th>0</th>\n",
       "      <td>Parked Car</td>\n",
       "      <td>0.161246</td>\n",
       "    </tr>\n",
       "    <tr>\n",
       "      <th>1</th>\n",
       "      <td>VEHCOUNT</td>\n",
       "      <td>0.115974</td>\n",
       "    </tr>\n",
       "    <tr>\n",
       "      <th>2</th>\n",
       "      <td>PEDCOUNT</td>\n",
       "      <td>0.075387</td>\n",
       "    </tr>\n",
       "    <tr>\n",
       "      <th>3</th>\n",
       "      <td>Rear Ended</td>\n",
       "      <td>0.060131</td>\n",
       "    </tr>\n",
       "    <tr>\n",
       "      <th>4</th>\n",
       "      <td>Pedestrian</td>\n",
       "      <td>0.056647</td>\n",
       "    </tr>\n",
       "    <tr>\n",
       "      <th>5</th>\n",
       "      <td>Sideswipe</td>\n",
       "      <td>0.054377</td>\n",
       "    </tr>\n",
       "    <tr>\n",
       "      <th>6</th>\n",
       "      <td>Cycles</td>\n",
       "      <td>0.050561</td>\n",
       "    </tr>\n",
       "    <tr>\n",
       "      <th>7</th>\n",
       "      <td>PEDCYLCOUNT</td>\n",
       "      <td>0.048511</td>\n",
       "    </tr>\n",
       "    <tr>\n",
       "      <th>8</th>\n",
       "      <td>INATTENTIONIND</td>\n",
       "      <td>0.032363</td>\n",
       "    </tr>\n",
       "    <tr>\n",
       "      <th>9</th>\n",
       "      <td>UNDERINFL</td>\n",
       "      <td>0.031749</td>\n",
       "    </tr>\n",
       "    <tr>\n",
       "      <th>10</th>\n",
       "      <td>SPEEDING</td>\n",
       "      <td>0.028382</td>\n",
       "    </tr>\n",
       "    <tr>\n",
       "      <th>11</th>\n",
       "      <td>Other</td>\n",
       "      <td>0.024663</td>\n",
       "    </tr>\n",
       "    <tr>\n",
       "      <th>12</th>\n",
       "      <td>Mid-Block (not related to intersection)</td>\n",
       "      <td>0.023298</td>\n",
       "    </tr>\n",
       "    <tr>\n",
       "      <th>13</th>\n",
       "      <td>Intersection</td>\n",
       "      <td>0.020580</td>\n",
       "    </tr>\n",
       "    <tr>\n",
       "      <th>14</th>\n",
       "      <td>At Intersection (intersection related)</td>\n",
       "      <td>0.018245</td>\n",
       "    </tr>\n",
       "    <tr>\n",
       "      <th>15</th>\n",
       "      <td>Daylight</td>\n",
       "      <td>0.014864</td>\n",
       "    </tr>\n",
       "    <tr>\n",
       "      <th>16</th>\n",
       "      <td>Dark - Street Lights On</td>\n",
       "      <td>0.014856</td>\n",
       "    </tr>\n",
       "    <tr>\n",
       "      <th>17</th>\n",
       "      <td>Overcast</td>\n",
       "      <td>0.014361</td>\n",
       "    </tr>\n",
       "    <tr>\n",
       "      <th>18</th>\n",
       "      <td>Block</td>\n",
       "      <td>0.013749</td>\n",
       "    </tr>\n",
       "    <tr>\n",
       "      <th>19</th>\n",
       "      <td>Clear</td>\n",
       "      <td>0.013336</td>\n",
       "    </tr>\n",
       "    <tr>\n",
       "      <th>20</th>\n",
       "      <td>Wet</td>\n",
       "      <td>0.011948</td>\n",
       "    </tr>\n",
       "    <tr>\n",
       "      <th>21</th>\n",
       "      <td>Angles</td>\n",
       "      <td>0.011860</td>\n",
       "    </tr>\n",
       "    <tr>\n",
       "      <th>22</th>\n",
       "      <td>Dry</td>\n",
       "      <td>0.011849</td>\n",
       "    </tr>\n",
       "    <tr>\n",
       "      <th>23</th>\n",
       "      <td>Raining</td>\n",
       "      <td>0.011451</td>\n",
       "    </tr>\n",
       "    <tr>\n",
       "      <th>24</th>\n",
       "      <td>Dusk</td>\n",
       "      <td>0.009311</td>\n",
       "    </tr>\n",
       "    <tr>\n",
       "      <th>25</th>\n",
       "      <td>Left Turn</td>\n",
       "      <td>0.008870</td>\n",
       "    </tr>\n",
       "    <tr>\n",
       "      <th>26</th>\n",
       "      <td>Mid-Block (but intersection related)</td>\n",
       "      <td>0.008803</td>\n",
       "    </tr>\n",
       "    <tr>\n",
       "      <th>27</th>\n",
       "      <td>Dark without lights</td>\n",
       "      <td>0.007598</td>\n",
       "    </tr>\n",
       "    <tr>\n",
       "      <th>28</th>\n",
       "      <td>Dawn</td>\n",
       "      <td>0.007463</td>\n",
       "    </tr>\n",
       "    <tr>\n",
       "      <th>29</th>\n",
       "      <td>Head On</td>\n",
       "      <td>0.007376</td>\n",
       "    </tr>\n",
       "    <tr>\n",
       "      <th>30</th>\n",
       "      <td>Right Turn</td>\n",
       "      <td>0.007303</td>\n",
       "    </tr>\n",
       "    <tr>\n",
       "      <th>31</th>\n",
       "      <td>Driveway Junction</td>\n",
       "      <td>0.006492</td>\n",
       "    </tr>\n",
       "    <tr>\n",
       "      <th>32</th>\n",
       "      <td>Other Poor Conditions</td>\n",
       "      <td>0.006124</td>\n",
       "    </tr>\n",
       "    <tr>\n",
       "      <th>33</th>\n",
       "      <td>Other Poor Road Conditions</td>\n",
       "      <td>0.006020</td>\n",
       "    </tr>\n",
       "    <tr>\n",
       "      <th>34</th>\n",
       "      <td>At Intersection (but not related to intersection)</td>\n",
       "      <td>0.002359</td>\n",
       "    </tr>\n",
       "    <tr>\n",
       "      <th>35</th>\n",
       "      <td>Ramp Junction</td>\n",
       "      <td>0.001287</td>\n",
       "    </tr>\n",
       "    <tr>\n",
       "      <th>36</th>\n",
       "      <td>Alley</td>\n",
       "      <td>0.000605</td>\n",
       "    </tr>\n",
       "  </tbody>\n",
       "</table>\n",
       "</div>"
      ],
      "text/plain": [
       "                                            variables  importance\n",
       "0                                          Parked Car    0.161246\n",
       "1                                            VEHCOUNT    0.115974\n",
       "2                                            PEDCOUNT    0.075387\n",
       "3                                          Rear Ended    0.060131\n",
       "4                                          Pedestrian    0.056647\n",
       "5                                           Sideswipe    0.054377\n",
       "6                                              Cycles    0.050561\n",
       "7                                         PEDCYLCOUNT    0.048511\n",
       "8                                      INATTENTIONIND    0.032363\n",
       "9                                           UNDERINFL    0.031749\n",
       "10                                           SPEEDING    0.028382\n",
       "11                                              Other    0.024663\n",
       "12            Mid-Block (not related to intersection)    0.023298\n",
       "13                                       Intersection    0.020580\n",
       "14             At Intersection (intersection related)    0.018245\n",
       "15                                           Daylight    0.014864\n",
       "16                            Dark - Street Lights On    0.014856\n",
       "17                                           Overcast    0.014361\n",
       "18                                              Block    0.013749\n",
       "19                                              Clear    0.013336\n",
       "20                                                Wet    0.011948\n",
       "21                                             Angles    0.011860\n",
       "22                                                Dry    0.011849\n",
       "23                                            Raining    0.011451\n",
       "24                                               Dusk    0.009311\n",
       "25                                          Left Turn    0.008870\n",
       "26               Mid-Block (but intersection related)    0.008803\n",
       "27                                Dark without lights    0.007598\n",
       "28                                               Dawn    0.007463\n",
       "29                                            Head On    0.007376\n",
       "30                                         Right Turn    0.007303\n",
       "31                                  Driveway Junction    0.006492\n",
       "32                              Other Poor Conditions    0.006124\n",
       "33                         Other Poor Road Conditions    0.006020\n",
       "34  At Intersection (but not related to intersection)    0.002359\n",
       "35                                      Ramp Junction    0.001287\n",
       "36                                              Alley    0.000605"
      ]
     },
     "execution_count": 43,
     "metadata": {},
     "output_type": "execute_result"
    }
   ],
   "source": [
    "showimportance"
   ]
  },
  {
   "cell_type": "code",
   "execution_count": 40,
   "metadata": {},
   "outputs": [
    {
     "name": "stdout",
     "output_type": "stream",
     "text": [
      "Test Set Accuracy: 0.683\n",
      "Train Set Accuracy: 0.680\n",
      "Jaccard Similarity Score: 0.683\n",
      "F1 Score: 0.678\n",
      "Log Loss: 0.571\n",
      "              precision    recall  f1-score   support\n",
      "\n",
      "           0       0.74      0.56      0.64     16569\n",
      "           1       0.65      0.80      0.72     16614\n",
      "\n",
      "   micro avg       0.68      0.68      0.68     33183\n",
      "   macro avg       0.69      0.68      0.68     33183\n",
      "weighted avg       0.69      0.68      0.68     33183\n",
      "\n"
     ]
    }
   ],
   "source": [
    "# Logistic Regression Model \n",
    "lrm = LogisticRegression(C=0.01,solver='liblinear')\n",
    "lrm.fit(x_train,y_train)\n",
    "lryhat = lrm.predict(x_test)\n",
    "lrprob = lrm.predict_proba(x_test)\n",
    "\n",
    "print('Test Set Accuracy: %.3f' %accuracy_score(y_test,lryhat))\n",
    "print('Train Set Accuracy: %.3f' %accuracy_score(y_train,lrm.predict(x_train)))\n",
    "print('Jaccard Similarity Score: %.3f' %jaccard_similarity_score(y_test, lryhat))\n",
    "print('F1 Score: %.3f' % f1_score(y_test,lryhat,average='weighted'))\n",
    "print('Log Loss: %.3f' % log_loss(y_test,lrprob))\n",
    "print(classification_report(y_test,lryhat))"
   ]
  },
  {
   "cell_type": "code",
   "execution_count": 44,
   "metadata": {},
   "outputs": [
    {
     "name": "stdout",
     "output_type": "stream",
     "text": [
      "0.6278929604628737\n",
      "0.6098119575699132\n",
      "0.649228543876567\n",
      "0.6454918032786885\n",
      "0.65851012536162\n",
      "0.6527844744455159\n",
      "0.6603784956605593\n",
      "0.6460945033751205\n",
      "0.6630906460945034\n",
      "0.6474807135969142\n",
      "0.65398987463838\n",
      "0.6530858244937319\n",
      "0.6547733847637416\n",
      "0.6515188042430087\n",
      "0.653387174541948\n",
      "0.6470588235294118\n",
      "0.6597757955641272\n",
      "0.6492888138862102\n",
      "0.6594744455159113\n",
      "0.6479026036644165\n",
      "0.6673095467695275\n",
      "0.6516996142719382\n",
      "0.6680930568948891\n",
      "0.6523625843780135\n",
      "0.6683944069431051\n",
      "0.6527844744455159\n",
      "0.6679122468659595\n",
      "0.665380906460945\n",
      "0.671950337512054\n",
      "0.6643563162970106\n",
      "0.6686957569913211\n",
      "0.6678519768563163\n",
      "0.6697806171648988\n",
      "0.6692381870781099\n",
      "0.6721914175506268\n",
      "0.6715284474445516\n",
      "0.671347637415622\n",
      "0.6707449373191899\n",
      "0.6708654773384763\n",
      "0.6717695274831244\n",
      "0.6717092574734812\n",
      "0.6729146576663452\n",
      "0.6730351976856316\n",
      "0.6729749276759884\n",
      "0.6720106075216972\n",
      "0.6748432979749277\n",
      "0.672854387656702\n",
      "0.67375843780135\n",
      "0.6744816779170685\n"
     ]
    }
   ],
   "source": [
    "# Finding the optimal number of k for the K-Nearest Neighbor Model.\n",
    "knum = 50\n",
    "meanacc = np.zeros(knum-1)\n",
    "stdacc = np.zeros(knum-1)\n",
    "\n",
    "for i in range(1,knum):\n",
    "    knnm = KNeighborsClassifier(n_neighbors = i).fit(x_train[int(x_train.shape[0]*0.5):],y_train[int(x_train.shape[0]*0.5):])\n",
    "    knnyhat = knnm.predict(x_test[int(x_test.shape[0]*0.5):])\n",
    "    meanacc[i-1] = accuracy_score(y_test[int(x_test.shape[0]*0.5):],knnyhat)\n",
    "    stdacc[i-1] = np.std(knnyhat==y_test[int(x_test.shape[0]*0.5):])/np.sqrt(knnyhat.shape[0])\n",
    "    print(meanacc[i-1])"
   ]
  },
  {
   "cell_type": "code",
   "execution_count": 46,
   "metadata": {},
   "outputs": [
    {
     "name": "stdout",
     "output_type": "stream",
     "text": [
      "at the k value of 46, model has the highest accuracy of 0.6748432979749277\n"
     ]
    }
   ],
   "source": [
    "# Print the optimal value of k and corresponding accuracy\n",
    "print('at the k value of {}, model has the highest accuracy of {}'.format(meanacc.argmax()+1,meanacc.max()))"
   ]
  },
  {
   "cell_type": "code",
   "execution_count": 47,
   "metadata": {},
   "outputs": [
    {
     "name": "stdout",
     "output_type": "stream",
     "text": [
      "Test Set Accuracy: 0.670\n",
      "Train Set Accuracy: 0.678\n",
      "Jaccard Similarity Score: 0.670\n",
      "F1 Score: 0.669\n",
      "              precision    recall  f1-score   support\n",
      "\n",
      "           0       0.69      0.62      0.65     16569\n",
      "           1       0.65      0.72      0.69     16614\n",
      "\n",
      "   micro avg       0.67      0.67      0.67     33183\n",
      "   macro avg       0.67      0.67      0.67     33183\n",
      "weighted avg       0.67      0.67      0.67     33183\n",
      "\n"
     ]
    }
   ],
   "source": [
    "# Evaluate Model Accuracy with k=46\n",
    "knn_model = KNeighborsClassifier(n_neighbors = 46)\n",
    "knn_model.fit(x_train,y_train)\n",
    "knn_model_yhat = knn_model.predict(x_test)\n",
    "print('Test Set Accuracy: %.3f' %accuracy_score(y_test,knn_model_yhat))\n",
    "print('Train Set Accuracy: %.3f' %accuracy_score(y_train,knn_model.predict(x_train)))\n",
    "print('Jaccard Similarity Score: %.3f' %jaccard_similarity_score(y_test, knn_model_yhat))\n",
    "print('F1 Score: %.3f' % f1_score(y_test,knn_model_yhat,average='weighted'))\n",
    "print(classification_report(y_test,knn_model_yhat))"
   ]
  },
  {
   "cell_type": "code",
   "execution_count": 55,
   "metadata": {},
   "outputs": [
    {
     "name": "stderr",
     "output_type": "stream",
     "text": [
      "/home/jupyterlab/conda/envs/python/lib/python3.6/site-packages/ipykernel_launcher.py:4: UserWarning: Legend does not support 'a' instances.\n",
      "A proxy artist may be used instead.\n",
      "See: https://matplotlib.org/users/legend_guide.html#creating-artists-specifically-for-adding-to-the-legend-aka-proxy-artists\n",
      "  after removing the cwd from sys.path.\n",
      "/home/jupyterlab/conda/envs/python/lib/python3.6/site-packages/ipykernel_launcher.py:4: UserWarning: Legend does not support 'c' instances.\n",
      "A proxy artist may be used instead.\n",
      "See: https://matplotlib.org/users/legend_guide.html#creating-artists-specifically-for-adding-to-the-legend-aka-proxy-artists\n",
      "  after removing the cwd from sys.path.\n",
      "/home/jupyterlab/conda/envs/python/lib/python3.6/site-packages/ipykernel_launcher.py:4: UserWarning: Legend does not support 'u' instances.\n",
      "A proxy artist may be used instead.\n",
      "See: https://matplotlib.org/users/legend_guide.html#creating-artists-specifically-for-adding-to-the-legend-aka-proxy-artists\n",
      "  after removing the cwd from sys.path.\n",
      "/home/jupyterlab/conda/envs/python/lib/python3.6/site-packages/ipykernel_launcher.py:4: UserWarning: Legend does not support 'r' instances.\n",
      "A proxy artist may be used instead.\n",
      "See: https://matplotlib.org/users/legend_guide.html#creating-artists-specifically-for-adding-to-the-legend-aka-proxy-artists\n",
      "  after removing the cwd from sys.path.\n",
      "/home/jupyterlab/conda/envs/python/lib/python3.6/site-packages/ipykernel_launcher.py:4: UserWarning: Legend does not support 'y' instances.\n",
      "A proxy artist may be used instead.\n",
      "See: https://matplotlib.org/users/legend_guide.html#creating-artists-specifically-for-adding-to-the-legend-aka-proxy-artists\n",
      "  after removing the cwd from sys.path.\n",
      "/home/jupyterlab/conda/envs/python/lib/python3.6/site-packages/ipykernel_launcher.py:4: UserWarning: Legend does not support ' ' instances.\n",
      "A proxy artist may be used instead.\n",
      "See: https://matplotlib.org/users/legend_guide.html#creating-artists-specifically-for-adding-to-the-legend-aka-proxy-artists\n",
      "  after removing the cwd from sys.path.\n"
     ]
    },
    {
     "data": {
      "text/plain": [
       "Text(0, 0.5, 'Accuracy Score')"
      ]
     },
     "execution_count": 55,
     "metadata": {},
     "output_type": "execute_result"
    },
    {
     "data": {
      "image/png": "[encoded data removed]",
      "text/plain": [
       "<Figure size 432x288 with 1 Axes>"
      ]
     },
     "metadata": {
      "needs_background": "light"
     },
     "output_type": "display_data"
    }
   ],
   "source": [
    "#Plotting model accuracy with different k values\n",
    "kar = np.arange(knum-1)\n",
    "plt.plot(kar,meanacc,'g',color='mediumspringgreen')\n",
    "plt.fill_between(kar,meanacc-1*stdacc,meanacc+1*stdacc,alpha=0.15,color='mediumaquamarine')\n",
    "plt.legend('accuracy score','+/- 1 std')\n",
    "plt.xlabel('Number of Neighbors')\n",
    "plt.ylabel('Accuracy Score')"
   ]
  }
 ],
 "metadata": {
  "kernelspec": {
   "display_name": "Python",
   "language": "python",
   "name": "conda-env-python-py"
  },
  "language_info": {
   "codemirror_mode": {
    "name": "ipython",
    "version": 3
   },
   "file_extension": ".py",
   "mimetype": "text/x-python",
   "name": "python",
   "nbconvert_exporter": "python",
   "pygments_lexer": "ipython3",
   "version": "3.6.11"
  }
 },
 "nbformat": 4,
 "nbformat_minor": 4
}
